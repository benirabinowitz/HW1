{
 "cells": [
  {
   "cell_type": "code",
   "id": "9535405d",
   "metadata": {
    "ExecuteTime": {
     "end_time": "2024-09-08T17:39:59.657383Z",
     "start_time": "2024-09-08T17:39:56.666943Z"
    }
   },
   "source": [
    "import time\n",
    "\n",
    "import torch\n",
    "\n",
    "print(torch.__version__)"
   ],
   "outputs": [
    {
     "name": "stdout",
     "output_type": "stream",
     "text": [
      "2.4.0+cpu\n"
     ]
    }
   ],
   "execution_count": 1
  },
  {
   "cell_type": "code",
   "id": "0a968002",
   "metadata": {
    "ExecuteTime": {
     "end_time": "2024-09-08T17:40:14.370452Z",
     "start_time": "2024-09-08T17:40:14.344214Z"
    }
   },
   "source": [
    "x = [1, 2, 3, 4, 5]\n",
    "x = torch.as_tensor(x)\n",
    "print(x)"
   ],
   "outputs": [
    {
     "name": "stdout",
     "output_type": "stream",
     "text": [
      "tensor([1, 2, 3, 4, 5])\n"
     ]
    }
   ],
   "execution_count": 2
  },
  {
   "cell_type": "code",
   "id": "137d6a0c",
   "metadata": {
    "ExecuteTime": {
     "end_time": "2024-09-08T17:40:22.249075Z",
     "start_time": "2024-09-08T17:40:22.226677Z"
    }
   },
   "source": [
    "x = torch.zeros(3, 4)\n",
    "print(x)"
   ],
   "outputs": [
    {
     "name": "stdout",
     "output_type": "stream",
     "text": [
      "tensor([[0., 0., 0., 0.],\n",
      "        [0., 0., 0., 0.],\n",
      "        [0., 0., 0., 0.]])\n"
     ]
    }
   ],
   "execution_count": 3
  },
  {
   "cell_type": "code",
   "id": "5827473e",
   "metadata": {
    "ExecuteTime": {
     "end_time": "2024-09-08T17:47:36.747034Z",
     "start_time": "2024-09-08T17:47:36.725603Z"
    }
   },
   "source": [
    "x = torch.ones(3, 4)\n",
    "print(x)"
   ],
   "outputs": [
    {
     "name": "stdout",
     "output_type": "stream",
     "text": [
      "tensor([[1., 1., 1., 1.],\n",
      "        [1., 1., 1., 1.],\n",
      "        [1., 1., 1., 1.]])\n"
     ]
    }
   ],
   "execution_count": 4
  },
  {
   "cell_type": "code",
   "id": "c0bdd951",
   "metadata": {
    "ExecuteTime": {
     "end_time": "2024-09-08T17:47:42.482045Z",
     "start_time": "2024-09-08T17:47:42.476398Z"
    }
   },
   "source": [
    "x = torch.full((3, 4), fill_value=2)\n",
    "print(x)"
   ],
   "outputs": [
    {
     "name": "stdout",
     "output_type": "stream",
     "text": [
      "tensor([[2, 2, 2, 2],\n",
      "        [2, 2, 2, 2],\n",
      "        [2, 2, 2, 2]])\n"
     ]
    }
   ],
   "execution_count": 5
  },
  {
   "cell_type": "code",
   "id": "eed74aea",
   "metadata": {
    "ExecuteTime": {
     "end_time": "2024-09-08T17:50:58.018374Z",
     "start_time": "2024-09-08T17:50:58.013992Z"
    }
   },
   "source": [
    "x = torch.randn(3, 4)\n",
    "print(x)"
   ],
   "outputs": [
    {
     "name": "stdout",
     "output_type": "stream",
     "text": [
      "tensor([[-1.1145,  1.6588,  1.1003,  0.5883],\n",
      "        [ 0.1633,  0.7731, -0.8294, -1.2050],\n",
      "        [ 0.1691, -0.0993,  0.9653,  0.8737]])\n"
     ]
    }
   ],
   "execution_count": 11
  },
  {
   "cell_type": "code",
   "id": "580f4a1c",
   "metadata": {
    "ExecuteTime": {
     "end_time": "2024-09-08T17:58:51.054528Z",
     "start_time": "2024-09-08T17:58:51.047634Z"
    }
   },
   "source": [
    "x = torch.randn(3, 4)\n",
    "y = torch.zeros_like(x)\n",
    "print(y)"
   ],
   "outputs": [
    {
     "name": "stdout",
     "output_type": "stream",
     "text": [
      "tensor([[0., 0., 0., 0.],\n",
      "        [0., 0., 0., 0.],\n",
      "        [0., 0., 0., 0.]])\n"
     ]
    }
   ],
   "execution_count": 12
  },
  {
   "cell_type": "code",
   "id": "5e4c7529",
   "metadata": {
    "ExecuteTime": {
     "end_time": "2024-09-08T17:58:58.081826Z",
     "start_time": "2024-09-08T17:58:58.075285Z"
    }
   },
   "source": [
    "x = torch.randn(3, 4)\n",
    "y = torch.ones_like(x)\n",
    "print(y)"
   ],
   "outputs": [
    {
     "name": "stdout",
     "output_type": "stream",
     "text": [
      "tensor([[1., 1., 1., 1.],\n",
      "        [1., 1., 1., 1.],\n",
      "        [1., 1., 1., 1.]])\n"
     ]
    }
   ],
   "execution_count": 13
  },
  {
   "cell_type": "code",
   "id": "68017668",
   "metadata": {
    "ExecuteTime": {
     "end_time": "2024-09-08T17:59:03.719070Z",
     "start_time": "2024-09-08T17:59:03.713836Z"
    }
   },
   "source": [
    "x = torch.randn(3, 4)\n",
    "y = torch.full_like(x, 5)\n",
    "print(y)"
   ],
   "outputs": [
    {
     "name": "stdout",
     "output_type": "stream",
     "text": [
      "tensor([[5., 5., 5., 5.],\n",
      "        [5., 5., 5., 5.],\n",
      "        [5., 5., 5., 5.]])\n"
     ]
    }
   ],
   "execution_count": 14
  },
  {
   "cell_type": "code",
   "id": "e9ffddc7",
   "metadata": {
    "ExecuteTime": {
     "end_time": "2024-09-08T17:59:35.983518Z",
     "start_time": "2024-09-08T17:59:35.977492Z"
    }
   },
   "source": [
    "x = torch.zeros(3, 4, dtype=torch.bool)\n",
    "print(x)\n",
    "y = x.new_tensor([1, 2, 3, 4])\n",
    "print(y)"
   ],
   "outputs": [
    {
     "name": "stdout",
     "output_type": "stream",
     "text": [
      "tensor([[False, False, False, False],\n",
      "        [False, False, False, False],\n",
      "        [False, False, False, False]])\n",
      "tensor([True, True, True, True])\n"
     ]
    }
   ],
   "execution_count": 16
  },
  {
   "cell_type": "code",
   "id": "ddde9615",
   "metadata": {
    "ExecuteTime": {
     "end_time": "2024-09-08T18:06:00.703942Z",
     "start_time": "2024-09-08T18:06:00.697529Z"
    }
   },
   "source": [
    "x = torch.ones(5, 1)\n",
    "print(x)\n",
    "y = torch.ones(1, 5)\n",
    "print(y)\n",
    "z = x + y\n",
    "print(z, z.shape)"
   ],
   "outputs": [
    {
     "name": "stdout",
     "output_type": "stream",
     "text": [
      "tensor([[1.],\n",
      "        [1.],\n",
      "        [1.],\n",
      "        [1.],\n",
      "        [1.]])\n",
      "tensor([[1., 1., 1., 1., 1.]])\n",
      "tensor([[2., 2., 2., 2., 2.],\n",
      "        [2., 2., 2., 2., 2.],\n",
      "        [2., 2., 2., 2., 2.],\n",
      "        [2., 2., 2., 2., 2.],\n",
      "        [2., 2., 2., 2., 2.]]) torch.Size([5, 5])\n"
     ]
    }
   ],
   "execution_count": 18
  },
  {
   "cell_type": "code",
   "id": "0afc06c0",
   "metadata": {
    "ExecuteTime": {
     "end_time": "2024-09-08T18:10:02.442522Z",
     "start_time": "2024-09-08T18:10:02.437049Z"
    }
   },
   "source": [
    "x = torch.ones(1, 1, 1, 1, 1)\n",
    "print(f\"x = {x}, shape = {x.shape}\")\n",
    "y = torch.ones(2, 1, 3, 1, 2)\n",
    "print(f\"y = {y}, shape = {y.shape}\")\n",
    "z = x + y\n",
    "print(z, z.shape)"
   ],
   "outputs": [
    {
     "name": "stdout",
     "output_type": "stream",
     "text": [
      "x = tensor([[[[[1.]]]]]), shape = torch.Size([1, 1, 1, 1, 1])\n",
      "y = tensor([[[[[1., 1.]],\n",
      "\n",
      "          [[1., 1.]],\n",
      "\n",
      "          [[1., 1.]]]],\n",
      "\n",
      "\n",
      "\n",
      "        [[[[1., 1.]],\n",
      "\n",
      "          [[1., 1.]],\n",
      "\n",
      "          [[1., 1.]]]]]), shape = torch.Size([2, 1, 3, 1, 2])\n",
      "tensor([[[[[2., 2.]],\n",
      "\n",
      "          [[2., 2.]],\n",
      "\n",
      "          [[2., 2.]]]],\n",
      "\n",
      "\n",
      "\n",
      "        [[[[2., 2.]],\n",
      "\n",
      "          [[2., 2.]],\n",
      "\n",
      "          [[2., 2.]]]]]) torch.Size([2, 1, 3, 1, 2])\n"
     ]
    }
   ],
   "execution_count": 24
  },
  {
   "cell_type": "code",
   "id": "aad1516e",
   "metadata": {
    "ExecuteTime": {
     "end_time": "2024-09-08T18:11:02.090844Z",
     "start_time": "2024-09-08T18:11:02.084238Z"
    }
   },
   "source": [
    "x = torch.ones(3, 4, 5)\n",
    "print(f\"x = {x}, shape = {x.shape}\")\n",
    "print(x.mean())\n",
    "print(x.mean(-1))"
   ],
   "outputs": [
    {
     "name": "stdout",
     "output_type": "stream",
     "text": [
      "x = tensor([[[1., 1., 1., 1., 1.],\n",
      "         [1., 1., 1., 1., 1.],\n",
      "         [1., 1., 1., 1., 1.],\n",
      "         [1., 1., 1., 1., 1.]],\n",
      "\n",
      "        [[1., 1., 1., 1., 1.],\n",
      "         [1., 1., 1., 1., 1.],\n",
      "         [1., 1., 1., 1., 1.],\n",
      "         [1., 1., 1., 1., 1.]],\n",
      "\n",
      "        [[1., 1., 1., 1., 1.],\n",
      "         [1., 1., 1., 1., 1.],\n",
      "         [1., 1., 1., 1., 1.],\n",
      "         [1., 1., 1., 1., 1.]]]), shape = torch.Size([3, 4, 5])\n",
      "tensor(1.)\n",
      "tensor([[1., 1., 1., 1.],\n",
      "        [1., 1., 1., 1.],\n",
      "        [1., 1., 1., 1.]])\n"
     ]
    }
   ],
   "execution_count": 27
  },
  {
   "cell_type": "code",
   "id": "f910a1a9",
   "metadata": {
    "ExecuteTime": {
     "end_time": "2024-09-08T18:38:16.095048Z",
     "start_time": "2024-09-08T18:38:16.087672Z"
    }
   },
   "source": [
    "x = torch.ones(3, 4, 5)\n",
    "print(f\"x = {x}, shape = {x.shape}\")\n",
    "print(x.sum(dim=0))\n",
    "print(x.sum(dim=(1)))"
   ],
   "outputs": [
    {
     "name": "stdout",
     "output_type": "stream",
     "text": [
      "x = tensor([[[1., 1., 1., 1., 1.],\n",
      "         [1., 1., 1., 1., 1.],\n",
      "         [1., 1., 1., 1., 1.],\n",
      "         [1., 1., 1., 1., 1.]],\n",
      "\n",
      "        [[1., 1., 1., 1., 1.],\n",
      "         [1., 1., 1., 1., 1.],\n",
      "         [1., 1., 1., 1., 1.],\n",
      "         [1., 1., 1., 1., 1.]],\n",
      "\n",
      "        [[1., 1., 1., 1., 1.],\n",
      "         [1., 1., 1., 1., 1.],\n",
      "         [1., 1., 1., 1., 1.],\n",
      "         [1., 1., 1., 1., 1.]]]), shape = torch.Size([3, 4, 5])\n",
      "tensor([[3., 3., 3., 3., 3.],\n",
      "        [3., 3., 3., 3., 3.],\n",
      "        [3., 3., 3., 3., 3.],\n",
      "        [3., 3., 3., 3., 3.]])\n",
      "tensor([[4., 4., 4., 4., 4.],\n",
      "        [4., 4., 4., 4., 4.],\n",
      "        [4., 4., 4., 4., 4.]])\n"
     ]
    }
   ],
   "execution_count": 40
  },
  {
   "cell_type": "code",
   "id": "fd0924c1",
   "metadata": {
    "ExecuteTime": {
     "end_time": "2024-09-08T18:38:38.519698Z",
     "start_time": "2024-09-08T18:38:38.513156Z"
    }
   },
   "source": [
    "x = torch.ones(3, 4, 5)\n",
    "y = x.sum(dim=(1, 2))\n",
    "z = x.sum(dim=(1, 2), keepdim=True)\n",
    "print(y, y.shape)\n",
    "print(z, z.shape)"
   ],
   "outputs": [
    {
     "name": "stdout",
     "output_type": "stream",
     "text": [
      "tensor([20., 20., 20.]) torch.Size([3])\n",
      "tensor([[[20.]],\n",
      "\n",
      "        [[20.]],\n",
      "\n",
      "        [[20.]]]) torch.Size([3, 1, 1])\n"
     ]
    }
   ],
   "execution_count": 41
  },
  {
   "cell_type": "code",
   "id": "7c257a98",
   "metadata": {
    "ExecuteTime": {
     "end_time": "2024-09-08T18:40:14.050704Z",
     "start_time": "2024-09-08T18:40:14.044844Z"
    }
   },
   "source": [
    "x = torch.randn(5, 5)\n",
    "print(x.to(torch.long))"
   ],
   "outputs": [
    {
     "name": "stdout",
     "output_type": "stream",
     "text": [
      "tensor([[ 0,  0,  0,  0,  0],\n",
      "        [ 0,  0, -1,  0,  0],\n",
      "        [-1, -1,  0,  0, -1],\n",
      "        [ 1,  1, -1,  0,  1],\n",
      "        [-2,  0, -1,  0, -1]])\n"
     ]
    }
   ],
   "execution_count": 44
  },
  {
   "cell_type": "code",
   "id": "09c380d2",
   "metadata": {
    "ExecuteTime": {
     "end_time": "2024-09-08T18:41:37.050856Z",
     "start_time": "2024-09-08T18:41:37.043754Z"
    }
   },
   "source": [
    "x = torch.randn(2, 3, 2)\n",
    "y = x.view(6, 2)\n",
    "z = x.view(-1, 2)\n",
    "print(y, y.shape)\n",
    "print(z, z.shape)"
   ],
   "outputs": [
    {
     "name": "stdout",
     "output_type": "stream",
     "text": [
      "tensor([[-0.2975, -0.8015],\n",
      "        [-1.0448, -0.0637],\n",
      "        [ 0.8427, -1.1848],\n",
      "        [-0.5508, -2.0639],\n",
      "        [-0.9893,  0.4755],\n",
      "        [-1.0159,  1.0103]]) torch.Size([6, 2])\n",
      "tensor([[-0.2975, -0.8015],\n",
      "        [-1.0448, -0.0637],\n",
      "        [ 0.8427, -1.1848],\n",
      "        [-0.5508, -2.0639],\n",
      "        [-0.9893,  0.4755],\n",
      "        [-1.0159,  1.0103]]) torch.Size([6, 2])\n"
     ]
    }
   ],
   "execution_count": 45
  },
  {
   "cell_type": "code",
   "id": "3ffa8638",
   "metadata": {
    "ExecuteTime": {
     "end_time": "2024-09-08T18:43:08.839779Z",
     "start_time": "2024-09-08T18:43:08.834679Z"
    }
   },
   "source": [
    "x = torch.randn(2, 3, 2)\n",
    "print(f\"x = {x}, shape = {x.shape}\")\n",
    "y = x.permute(1, 2, 0)\n",
    "print(y, y.shape)"
   ],
   "outputs": [
    {
     "name": "stdout",
     "output_type": "stream",
     "text": [
      "x = tensor([[[ 0.3092,  0.7802],\n",
      "         [-2.2975,  2.5409],\n",
      "         [-1.0247,  0.7970]],\n",
      "\n",
      "        [[ 0.4018, -1.3729],\n",
      "         [ 0.1376, -0.1295],\n",
      "         [-1.0010, -0.0097]]]), shape = torch.Size([2, 3, 2])\n",
      "tensor([[[ 0.3092,  0.4018],\n",
      "         [ 0.7802, -1.3729]],\n",
      "\n",
      "        [[-2.2975,  0.1376],\n",
      "         [ 2.5409, -0.1295]],\n",
      "\n",
      "        [[-1.0247, -1.0010],\n",
      "         [ 0.7970, -0.0097]]]) torch.Size([3, 2, 2])\n"
     ]
    }
   ],
   "execution_count": 47
  },
  {
   "cell_type": "code",
   "id": "d535db03",
   "metadata": {
    "ExecuteTime": {
     "end_time": "2024-09-08T18:44:03.264195Z",
     "start_time": "2024-09-08T18:44:03.255865Z"
    }
   },
   "source": [
    "x = torch.ones(2, 3)\n",
    "y = torch.ones(2, 3)\n",
    "z = torch.cat([x, y], dim=0)\n",
    "print(z, z.shape)"
   ],
   "outputs": [
    {
     "name": "stdout",
     "output_type": "stream",
     "text": [
      "tensor([[1., 1., 1.],\n",
      "        [1., 1., 1.],\n",
      "        [1., 1., 1.],\n",
      "        [1., 1., 1.]]) torch.Size([4, 3])\n"
     ]
    }
   ],
   "execution_count": 48
  },
  {
   "cell_type": "code",
   "execution_count": null,
   "id": "6c18b03f",
   "metadata": {},
   "outputs": [],
   "source": [
    "x = torch.ones(2, 3)\n",
    "y = torch.ones(2, 3)\n",
    "z = torch.stack([x, y], dim=1)\n",
    "print(z, z.shape)"
   ]
  },
  {
   "cell_type": "code",
   "execution_count": null,
   "id": "125953c1",
   "metadata": {},
   "outputs": [],
   "source": [
    "def add_two_lists(x, y):\n",
    "    z = []\n",
    "    for i, j in zip(x, y):\n",
    "        z.append(i + j)\n",
    "    return z\n",
    "\n",
    "\n",
    "x = torch.ones(5000)\n",
    "y = torch.ones(5000)\n",
    "t1 = time.time()\n",
    "z = add_two_lists(x, y)\n",
    "print(f\"{time.time() - t1:.4f} sec.\")"
   ]
  },
  {
   "cell_type": "code",
   "execution_count": null,
   "id": "4d16279f",
   "metadata": {},
   "outputs": [],
   "source": [
    "def add_two_lists(x, y):\n",
    "    return x + y\n",
    "\n",
    "\n",
    "x = torch.ones(5000)\n",
    "y = torch.ones(5000)\n",
    "t1 = time.time()\n",
    "z = add_two_lists(x, y)\n",
    "print(f\"{time.time() - t1:.4f} sec.\")"
   ]
  },
  {
   "cell_type": "code",
   "execution_count": null,
   "id": "2d772b9f",
   "metadata": {},
   "outputs": [],
   "source": [
    "x = torch.randn(3, 3)\n",
    "y = torch.zeros(5, 2, dtype=torch.long)\n",
    "print(x.to(torch.float32))\n",
    "print(x.to(torch.bool))\n",
    "print(x.to(y))"
   ]
  },
  {
   "cell_type": "code",
   "execution_count": null,
   "id": "a92867f0",
   "metadata": {},
   "outputs": [],
   "source": [
    "x = torch.arange(8)\n",
    "print(x)\n",
    "y = torch.arange(2, 8)\n",
    "print(y)\n",
    "z = torch.arange(3, 10, step=2)\n",
    "print(z)"
   ]
  }
 ],
 "metadata": {
  "jupytext": {
   "cell_markers": "region,endregion"
  },
  "kernelspec": {
   "display_name": "Python 3",
   "language": "python",
   "name": "python3"
  }
 },
 "nbformat": 4,
 "nbformat_minor": 5
}
